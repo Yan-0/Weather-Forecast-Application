{
 "cells": [
  {
   "cell_type": "code",
   "execution_count": 1,
   "metadata": {
    "id": "YRRI6DsAPGT6"
   },
   "outputs": [],
   "source": [
    "import pandas as pd\n",
    "import numpy as np"
   ]
  },
  {
   "cell_type": "code",
   "execution_count": 2,
   "metadata": {
    "id": "DrgiAAxoPuQa"
   },
   "outputs": [],
   "source": [
    "# Load CSV files for Nepal, US, Australia and India Weather\n",
    "\n",
    "NP_weather = pd.read_csv('nepal_data.csv')\n",
    "US_AUS_weather = pd.read_csv('US-and-AU_weather_data.csv')\n",
    "IN_weather = pd.read_csv('IN_weather_data.csv')\n"
   ]
  },
  {
   "cell_type": "code",
   "execution_count": 3,
   "metadata": {
    "colab": {
     "base_uri": "https://localhost:8080/",
     "height": 206
    },
    "executionInfo": {
     "elapsed": 847,
     "status": "ok",
     "timestamp": 1721712592347,
     "user": {
      "displayName": "Shreyan Bhandari",
      "userId": "11628212399295485747"
     },
     "user_tz": -345
    },
    "id": "hai5HgLHP9Xb",
    "outputId": "8430a9ba-1d07-40eb-ac38-ec24cf8abcd9"
   },
   "outputs": [
    {
     "data": {
      "text/html": [
       "<div>\n",
       "<style scoped>\n",
       "    .dataframe tbody tr th:only-of-type {\n",
       "        vertical-align: middle;\n",
       "    }\n",
       "\n",
       "    .dataframe tbody tr th {\n",
       "        vertical-align: top;\n",
       "    }\n",
       "\n",
       "    .dataframe thead th {\n",
       "        text-align: right;\n",
       "    }\n",
       "</style>\n",
       "<table border=\"1\" class=\"dataframe\">\n",
       "  <thead>\n",
       "    <tr style=\"text-align: right;\">\n",
       "      <th></th>\n",
       "      <th>DATE</th>\n",
       "      <th>NAME</th>\n",
       "      <th>LATITUDE</th>\n",
       "      <th>LONGITUDE</th>\n",
       "      <th>ELEVATION</th>\n",
       "      <th>PRCP</th>\n",
       "      <th>TAVG</th>\n",
       "      <th>TMAX</th>\n",
       "      <th>TMIN</th>\n",
       "    </tr>\n",
       "  </thead>\n",
       "  <tbody>\n",
       "    <tr>\n",
       "      <th>0</th>\n",
       "      <td>1971-01-01</td>\n",
       "      <td>KATHMANDU AIRPORT, NP</td>\n",
       "      <td>27.7</td>\n",
       "      <td>85.367</td>\n",
       "      <td>1337</td>\n",
       "      <td>NaN</td>\n",
       "      <td>NaN</td>\n",
       "      <td>17.3</td>\n",
       "      <td>3.8</td>\n",
       "    </tr>\n",
       "    <tr>\n",
       "      <th>1</th>\n",
       "      <td>1971-01-02</td>\n",
       "      <td>KATHMANDU AIRPORT, NP</td>\n",
       "      <td>27.7</td>\n",
       "      <td>85.367</td>\n",
       "      <td>1337</td>\n",
       "      <td>NaN</td>\n",
       "      <td>NaN</td>\n",
       "      <td>17.8</td>\n",
       "      <td>6.1</td>\n",
       "    </tr>\n",
       "    <tr>\n",
       "      <th>2</th>\n",
       "      <td>1971-01-03</td>\n",
       "      <td>KATHMANDU AIRPORT, NP</td>\n",
       "      <td>27.7</td>\n",
       "      <td>85.367</td>\n",
       "      <td>1337</td>\n",
       "      <td>NaN</td>\n",
       "      <td>NaN</td>\n",
       "      <td>18.3</td>\n",
       "      <td>2.9</td>\n",
       "    </tr>\n",
       "    <tr>\n",
       "      <th>3</th>\n",
       "      <td>1971-01-04</td>\n",
       "      <td>KATHMANDU AIRPORT, NP</td>\n",
       "      <td>27.7</td>\n",
       "      <td>85.367</td>\n",
       "      <td>1337</td>\n",
       "      <td>NaN</td>\n",
       "      <td>NaN</td>\n",
       "      <td>17.3</td>\n",
       "      <td>5.3</td>\n",
       "    </tr>\n",
       "    <tr>\n",
       "      <th>4</th>\n",
       "      <td>1971-01-05</td>\n",
       "      <td>KATHMANDU AIRPORT, NP</td>\n",
       "      <td>27.7</td>\n",
       "      <td>85.367</td>\n",
       "      <td>1337</td>\n",
       "      <td>NaN</td>\n",
       "      <td>NaN</td>\n",
       "      <td>17.2</td>\n",
       "      <td>4.9</td>\n",
       "    </tr>\n",
       "  </tbody>\n",
       "</table>\n",
       "</div>"
      ],
      "text/plain": [
       "         DATE                   NAME  LATITUDE  LONGITUDE  ELEVATION  PRCP  \\\n",
       "0  1971-01-01  KATHMANDU AIRPORT, NP      27.7     85.367       1337   NaN   \n",
       "1  1971-01-02  KATHMANDU AIRPORT, NP      27.7     85.367       1337   NaN   \n",
       "2  1971-01-03  KATHMANDU AIRPORT, NP      27.7     85.367       1337   NaN   \n",
       "3  1971-01-04  KATHMANDU AIRPORT, NP      27.7     85.367       1337   NaN   \n",
       "4  1971-01-05  KATHMANDU AIRPORT, NP      27.7     85.367       1337   NaN   \n",
       "\n",
       "   TAVG  TMAX  TMIN  \n",
       "0   NaN  17.3   3.8  \n",
       "1   NaN  17.8   6.1  \n",
       "2   NaN  18.3   2.9  \n",
       "3   NaN  17.3   5.3  \n",
       "4   NaN  17.2   4.9  "
      ]
     },
     "execution_count": 3,
     "metadata": {},
     "output_type": "execute_result"
    }
   ],
   "source": [
    "NP_weather.head()"
   ]
  },
  {
   "cell_type": "code",
   "execution_count": 4,
   "metadata": {
    "colab": {
     "base_uri": "https://localhost:8080/",
     "height": 206
    },
    "executionInfo": {
     "elapsed": 77,
     "status": "ok",
     "timestamp": 1721712592347,
     "user": {
      "displayName": "Shreyan Bhandari",
      "userId": "11628212399295485747"
     },
     "user_tz": -345
    },
    "id": "lRl1uVnM7Cwx",
    "outputId": "3c83cb07-62ab-48aa-dc0c-0228b80273d9"
   },
   "outputs": [
    {
     "data": {
      "text/html": [
       "<div>\n",
       "<style scoped>\n",
       "    .dataframe tbody tr th:only-of-type {\n",
       "        vertical-align: middle;\n",
       "    }\n",
       "\n",
       "    .dataframe tbody tr th {\n",
       "        vertical-align: top;\n",
       "    }\n",
       "\n",
       "    .dataframe thead th {\n",
       "        text-align: right;\n",
       "    }\n",
       "</style>\n",
       "<table border=\"1\" class=\"dataframe\">\n",
       "  <thead>\n",
       "    <tr style=\"text-align: right;\">\n",
       "      <th></th>\n",
       "      <th>DATE</th>\n",
       "      <th>STATION</th>\n",
       "      <th>LATITUDE</th>\n",
       "      <th>LONGITUDE</th>\n",
       "      <th>ELEVATION</th>\n",
       "      <th>PRCP</th>\n",
       "      <th>TAVG</th>\n",
       "      <th>TMAX</th>\n",
       "      <th>TMIN</th>\n",
       "    </tr>\n",
       "  </thead>\n",
       "  <tbody>\n",
       "    <tr>\n",
       "      <th>0</th>\n",
       "      <td>2000-01-01</td>\n",
       "      <td>USW00012839</td>\n",
       "      <td>25.78805</td>\n",
       "      <td>-80.31694</td>\n",
       "      <td>1.4</td>\n",
       "      <td>0.0</td>\n",
       "      <td>22.2</td>\n",
       "      <td>27.2</td>\n",
       "      <td>17.2</td>\n",
       "    </tr>\n",
       "    <tr>\n",
       "      <th>1</th>\n",
       "      <td>2000-01-02</td>\n",
       "      <td>USW00012839</td>\n",
       "      <td>25.78805</td>\n",
       "      <td>-80.31694</td>\n",
       "      <td>1.4</td>\n",
       "      <td>0.0</td>\n",
       "      <td>22.8</td>\n",
       "      <td>26.1</td>\n",
       "      <td>18.9</td>\n",
       "    </tr>\n",
       "    <tr>\n",
       "      <th>2</th>\n",
       "      <td>2000-01-03</td>\n",
       "      <td>USW00012839</td>\n",
       "      <td>25.78805</td>\n",
       "      <td>-80.31694</td>\n",
       "      <td>1.4</td>\n",
       "      <td>0.0</td>\n",
       "      <td>22.2</td>\n",
       "      <td>26.7</td>\n",
       "      <td>17.8</td>\n",
       "    </tr>\n",
       "    <tr>\n",
       "      <th>3</th>\n",
       "      <td>2000-01-04</td>\n",
       "      <td>USW00012839</td>\n",
       "      <td>25.78805</td>\n",
       "      <td>-80.31694</td>\n",
       "      <td>1.4</td>\n",
       "      <td>0.0</td>\n",
       "      <td>24.4</td>\n",
       "      <td>26.7</td>\n",
       "      <td>21.7</td>\n",
       "    </tr>\n",
       "    <tr>\n",
       "      <th>4</th>\n",
       "      <td>2000-01-05</td>\n",
       "      <td>USW00012839</td>\n",
       "      <td>25.78805</td>\n",
       "      <td>-80.31694</td>\n",
       "      <td>1.4</td>\n",
       "      <td>6.1</td>\n",
       "      <td>23.3</td>\n",
       "      <td>26.7</td>\n",
       "      <td>19.4</td>\n",
       "    </tr>\n",
       "  </tbody>\n",
       "</table>\n",
       "</div>"
      ],
      "text/plain": [
       "         DATE      STATION  LATITUDE  LONGITUDE  ELEVATION  PRCP  TAVG  TMAX  \\\n",
       "0  2000-01-01  USW00012839  25.78805  -80.31694        1.4   0.0  22.2  27.2   \n",
       "1  2000-01-02  USW00012839  25.78805  -80.31694        1.4   0.0  22.8  26.1   \n",
       "2  2000-01-03  USW00012839  25.78805  -80.31694        1.4   0.0  22.2  26.7   \n",
       "3  2000-01-04  USW00012839  25.78805  -80.31694        1.4   0.0  24.4  26.7   \n",
       "4  2000-01-05  USW00012839  25.78805  -80.31694        1.4   6.1  23.3  26.7   \n",
       "\n",
       "   TMIN  \n",
       "0  17.2  \n",
       "1  18.9  \n",
       "2  17.8  \n",
       "3  21.7  \n",
       "4  19.4  "
      ]
     },
     "execution_count": 4,
     "metadata": {},
     "output_type": "execute_result"
    }
   ],
   "source": [
    "US_AUS_weather.head()"
   ]
  },
  {
   "cell_type": "code",
   "execution_count": 5,
   "metadata": {
    "colab": {
     "base_uri": "https://localhost:8080/",
     "height": 206
    },
    "executionInfo": {
     "elapsed": 71,
     "status": "ok",
     "timestamp": 1721712592348,
     "user": {
      "displayName": "Shreyan Bhandari",
      "userId": "11628212399295485747"
     },
     "user_tz": -345
    },
    "id": "08LF3z5V7Ga3",
    "outputId": "8ddf5b52-1ca0-44f0-f88b-87e325bfe854"
   },
   "outputs": [
    {
     "data": {
      "text/html": [
       "<div>\n",
       "<style scoped>\n",
       "    .dataframe tbody tr th:only-of-type {\n",
       "        vertical-align: middle;\n",
       "    }\n",
       "\n",
       "    .dataframe tbody tr th {\n",
       "        vertical-align: top;\n",
       "    }\n",
       "\n",
       "    .dataframe thead th {\n",
       "        text-align: right;\n",
       "    }\n",
       "</style>\n",
       "<table border=\"1\" class=\"dataframe\">\n",
       "  <thead>\n",
       "    <tr style=\"text-align: right;\">\n",
       "      <th></th>\n",
       "      <th>DATE</th>\n",
       "      <th>STATION</th>\n",
       "      <th>LATITUDE</th>\n",
       "      <th>LONGITUDE</th>\n",
       "      <th>ELEVATION</th>\n",
       "      <th>PRCP</th>\n",
       "      <th>TAVG</th>\n",
       "      <th>TMAX</th>\n",
       "      <th>TMIN</th>\n",
       "    </tr>\n",
       "  </thead>\n",
       "  <tbody>\n",
       "    <tr>\n",
       "      <th>0</th>\n",
       "      <td>2015-12-07</td>\n",
       "      <td>IN024140300</td>\n",
       "      <td>22.533</td>\n",
       "      <td>88.333</td>\n",
       "      <td>6</td>\n",
       "      <td>NaN</td>\n",
       "      <td>22.4</td>\n",
       "      <td>28.6</td>\n",
       "      <td>NaN</td>\n",
       "    </tr>\n",
       "    <tr>\n",
       "      <th>1</th>\n",
       "      <td>2015-12-08</td>\n",
       "      <td>IN024140300</td>\n",
       "      <td>22.533</td>\n",
       "      <td>88.333</td>\n",
       "      <td>6</td>\n",
       "      <td>NaN</td>\n",
       "      <td>22.7</td>\n",
       "      <td>28.1</td>\n",
       "      <td>NaN</td>\n",
       "    </tr>\n",
       "    <tr>\n",
       "      <th>2</th>\n",
       "      <td>2015-12-09</td>\n",
       "      <td>IN024140300</td>\n",
       "      <td>22.533</td>\n",
       "      <td>88.333</td>\n",
       "      <td>6</td>\n",
       "      <td>NaN</td>\n",
       "      <td>22.8</td>\n",
       "      <td>28.3</td>\n",
       "      <td>18.8</td>\n",
       "    </tr>\n",
       "    <tr>\n",
       "      <th>3</th>\n",
       "      <td>2015-12-10</td>\n",
       "      <td>IN024140300</td>\n",
       "      <td>22.533</td>\n",
       "      <td>88.333</td>\n",
       "      <td>6</td>\n",
       "      <td>NaN</td>\n",
       "      <td>23.4</td>\n",
       "      <td>29.1</td>\n",
       "      <td>18.7</td>\n",
       "    </tr>\n",
       "    <tr>\n",
       "      <th>4</th>\n",
       "      <td>2015-12-11</td>\n",
       "      <td>IN024140300</td>\n",
       "      <td>22.533</td>\n",
       "      <td>88.333</td>\n",
       "      <td>6</td>\n",
       "      <td>NaN</td>\n",
       "      <td>24.5</td>\n",
       "      <td>29.1</td>\n",
       "      <td>20.6</td>\n",
       "    </tr>\n",
       "  </tbody>\n",
       "</table>\n",
       "</div>"
      ],
      "text/plain": [
       "         DATE      STATION  LATITUDE  LONGITUDE  ELEVATION  PRCP  TAVG  TMAX  \\\n",
       "0  2015-12-07  IN024140300    22.533     88.333          6   NaN  22.4  28.6   \n",
       "1  2015-12-08  IN024140300    22.533     88.333          6   NaN  22.7  28.1   \n",
       "2  2015-12-09  IN024140300    22.533     88.333          6   NaN  22.8  28.3   \n",
       "3  2015-12-10  IN024140300    22.533     88.333          6   NaN  23.4  29.1   \n",
       "4  2015-12-11  IN024140300    22.533     88.333          6   NaN  24.5  29.1   \n",
       "\n",
       "   TMIN  \n",
       "0   NaN  \n",
       "1   NaN  \n",
       "2  18.8  \n",
       "3  18.7  \n",
       "4  20.6  "
      ]
     },
     "execution_count": 5,
     "metadata": {},
     "output_type": "execute_result"
    }
   ],
   "source": [
    "IN_weather.head()"
   ]
  },
  {
   "cell_type": "code",
   "execution_count": 6,
   "metadata": {
    "id": "j49b_i4zj8Se"
   },
   "outputs": [],
   "source": [
    "#Dropping unnecesssary columns\n",
    "\n",
    "NP_weather = NP_weather.drop(['NAME'], axis=1)\n",
    "US_AUS_weather = US_AUS_weather.drop(['STATION'], axis=1)\n",
    "IN_weather = IN_weather.drop(['STATION'], axis=1)"
   ]
  },
  {
   "cell_type": "code",
   "execution_count": 7,
   "metadata": {
    "id": "MkYJ6JiE8e8s"
   },
   "outputs": [],
   "source": [
    "weather = pd.concat([NP_weather, US_AUS_weather, IN_weather])"
   ]
  },
  {
   "cell_type": "code",
   "execution_count": 8,
   "metadata": {
    "colab": {
     "base_uri": "https://localhost:8080/",
     "height": 206
    },
    "executionInfo": {
     "elapsed": 66,
     "status": "ok",
     "timestamp": 1721712592351,
     "user": {
      "displayName": "Shreyan Bhandari",
      "userId": "11628212399295485747"
     },
     "user_tz": -345
    },
    "id": "QV4z36KS81Z8",
    "outputId": "5d2433df-5510-41f5-ac21-85fa9b5fc875"
   },
   "outputs": [
    {
     "data": {
      "text/html": [
       "<div>\n",
       "<style scoped>\n",
       "    .dataframe tbody tr th:only-of-type {\n",
       "        vertical-align: middle;\n",
       "    }\n",
       "\n",
       "    .dataframe tbody tr th {\n",
       "        vertical-align: top;\n",
       "    }\n",
       "\n",
       "    .dataframe thead th {\n",
       "        text-align: right;\n",
       "    }\n",
       "</style>\n",
       "<table border=\"1\" class=\"dataframe\">\n",
       "  <thead>\n",
       "    <tr style=\"text-align: right;\">\n",
       "      <th></th>\n",
       "      <th>DATE</th>\n",
       "      <th>LATITUDE</th>\n",
       "      <th>LONGITUDE</th>\n",
       "      <th>ELEVATION</th>\n",
       "      <th>PRCP</th>\n",
       "      <th>TAVG</th>\n",
       "      <th>TMAX</th>\n",
       "      <th>TMIN</th>\n",
       "    </tr>\n",
       "  </thead>\n",
       "  <tbody>\n",
       "    <tr>\n",
       "      <th>0</th>\n",
       "      <td>1971-01-01</td>\n",
       "      <td>27.7</td>\n",
       "      <td>85.367</td>\n",
       "      <td>1337.0</td>\n",
       "      <td>NaN</td>\n",
       "      <td>NaN</td>\n",
       "      <td>17.3</td>\n",
       "      <td>3.8</td>\n",
       "    </tr>\n",
       "    <tr>\n",
       "      <th>1</th>\n",
       "      <td>1971-01-02</td>\n",
       "      <td>27.7</td>\n",
       "      <td>85.367</td>\n",
       "      <td>1337.0</td>\n",
       "      <td>NaN</td>\n",
       "      <td>NaN</td>\n",
       "      <td>17.8</td>\n",
       "      <td>6.1</td>\n",
       "    </tr>\n",
       "    <tr>\n",
       "      <th>2</th>\n",
       "      <td>1971-01-03</td>\n",
       "      <td>27.7</td>\n",
       "      <td>85.367</td>\n",
       "      <td>1337.0</td>\n",
       "      <td>NaN</td>\n",
       "      <td>NaN</td>\n",
       "      <td>18.3</td>\n",
       "      <td>2.9</td>\n",
       "    </tr>\n",
       "    <tr>\n",
       "      <th>3</th>\n",
       "      <td>1971-01-04</td>\n",
       "      <td>27.7</td>\n",
       "      <td>85.367</td>\n",
       "      <td>1337.0</td>\n",
       "      <td>NaN</td>\n",
       "      <td>NaN</td>\n",
       "      <td>17.3</td>\n",
       "      <td>5.3</td>\n",
       "    </tr>\n",
       "    <tr>\n",
       "      <th>4</th>\n",
       "      <td>1971-01-05</td>\n",
       "      <td>27.7</td>\n",
       "      <td>85.367</td>\n",
       "      <td>1337.0</td>\n",
       "      <td>NaN</td>\n",
       "      <td>NaN</td>\n",
       "      <td>17.2</td>\n",
       "      <td>4.9</td>\n",
       "    </tr>\n",
       "  </tbody>\n",
       "</table>\n",
       "</div>"
      ],
      "text/plain": [
       "         DATE  LATITUDE  LONGITUDE  ELEVATION  PRCP  TAVG  TMAX  TMIN\n",
       "0  1971-01-01      27.7     85.367     1337.0   NaN   NaN  17.3   3.8\n",
       "1  1971-01-02      27.7     85.367     1337.0   NaN   NaN  17.8   6.1\n",
       "2  1971-01-03      27.7     85.367     1337.0   NaN   NaN  18.3   2.9\n",
       "3  1971-01-04      27.7     85.367     1337.0   NaN   NaN  17.3   5.3\n",
       "4  1971-01-05      27.7     85.367     1337.0   NaN   NaN  17.2   4.9"
      ]
     },
     "execution_count": 8,
     "metadata": {},
     "output_type": "execute_result"
    }
   ],
   "source": [
    "weather.head()"
   ]
  },
  {
   "cell_type": "code",
   "execution_count": 9,
   "metadata": {
    "colab": {
     "base_uri": "https://localhost:8080/"
    },
    "executionInfo": {
     "elapsed": 61,
     "status": "ok",
     "timestamp": 1721712592352,
     "user": {
      "displayName": "Shreyan Bhandari",
      "userId": "11628212399295485747"
     },
     "user_tz": -345
    },
    "id": "zz1UkYEKP_S8",
    "outputId": "0d98071a-0e30-4e38-d079-99e3caa54060"
   },
   "outputs": [
    {
     "data": {
      "text/plain": [
       "DATE             0\n",
       "LATITUDE         0\n",
       "LONGITUDE        0\n",
       "ELEVATION        0\n",
       "PRCP         27946\n",
       "TAVG         37973\n",
       "TMAX         21188\n",
       "TMIN         21119\n",
       "dtype: int64"
      ]
     },
     "execution_count": 9,
     "metadata": {},
     "output_type": "execute_result"
    }
   ],
   "source": [
    "weather.isna().sum()"
   ]
  },
  {
   "cell_type": "code",
   "execution_count": 10,
   "metadata": {
    "colab": {
     "base_uri": "https://localhost:8080/"
    },
    "executionInfo": {
     "elapsed": 4589,
     "status": "ok",
     "timestamp": 1721712596888,
     "user": {
      "displayName": "Shreyan Bhandari",
      "userId": "11628212399295485747"
     },
     "user_tz": -345
    },
    "id": "grGc0hJZikZb",
    "outputId": "326658cf-a0f4-4f8c-a0c5-54b02284912f"
   },
   "outputs": [
    {
     "name": "stderr",
     "output_type": "stream",
     "text": [
      "C:\\Users\\Dell\\anaconda3\\Lib\\site-packages\\sklearn\\impute\\_iterative.py:825: ConvergenceWarning: [IterativeImputer] Early stopping criterion not reached.\n",
      "  warnings.warn(\n"
     ]
    }
   ],
   "source": [
    "#Handling missing values\n",
    "\n",
    "from sklearn.experimental import enable_iterative_imputer\n",
    "from sklearn.impute import IterativeImputer\n",
    "\n",
    "imputer = IterativeImputer()\n",
    "weather[['PRCP', 'TAVG', 'TMAX', 'TMIN']] = imputer.fit_transform(weather[['PRCP', 'TAVG', 'TMAX', 'TMIN']])\n"
   ]
  },
  {
   "cell_type": "code",
   "execution_count": 11,
   "metadata": {
    "colab": {
     "base_uri": "https://localhost:8080/"
    },
    "executionInfo": {
     "elapsed": 32,
     "status": "ok",
     "timestamp": 1721712596889,
     "user": {
      "displayName": "Shreyan Bhandari",
      "userId": "11628212399295485747"
     },
     "user_tz": -345
    },
    "id": "fRtXDhk5-dtJ",
    "outputId": "c1cdf1d7-5eed-4b29-e36e-e015421b9c1b"
   },
   "outputs": [
    {
     "data": {
      "text/plain": [
       "DATE         0\n",
       "LATITUDE     0\n",
       "LONGITUDE    0\n",
       "ELEVATION    0\n",
       "PRCP         0\n",
       "TAVG         0\n",
       "TMAX         0\n",
       "TMIN         0\n",
       "dtype: int64"
      ]
     },
     "execution_count": 11,
     "metadata": {},
     "output_type": "execute_result"
    }
   ],
   "source": [
    "weather.isna().sum()"
   ]
  },
  {
   "cell_type": "code",
   "execution_count": 12,
   "metadata": {
    "colab": {
     "base_uri": "https://localhost:8080/",
     "height": 320
    },
    "executionInfo": {
     "elapsed": 27,
     "status": "ok",
     "timestamp": 1721712596890,
     "user": {
      "displayName": "Shreyan Bhandari",
      "userId": "11628212399295485747"
     },
     "user_tz": -345
    },
    "id": "z2aK5hHmQWHu",
    "outputId": "8028bf9e-c1be-40af-c9e0-c2f30a2735b8"
   },
   "outputs": [
    {
     "data": {
      "text/html": [
       "<div>\n",
       "<style scoped>\n",
       "    .dataframe tbody tr th:only-of-type {\n",
       "        vertical-align: middle;\n",
       "    }\n",
       "\n",
       "    .dataframe tbody tr th {\n",
       "        vertical-align: top;\n",
       "    }\n",
       "\n",
       "    .dataframe thead th {\n",
       "        text-align: right;\n",
       "    }\n",
       "</style>\n",
       "<table border=\"1\" class=\"dataframe\">\n",
       "  <thead>\n",
       "    <tr style=\"text-align: right;\">\n",
       "      <th></th>\n",
       "      <th>LATITUDE</th>\n",
       "      <th>LONGITUDE</th>\n",
       "      <th>ELEVATION</th>\n",
       "      <th>PRCP</th>\n",
       "      <th>TAVG</th>\n",
       "      <th>TMAX</th>\n",
       "      <th>TMIN</th>\n",
       "    </tr>\n",
       "  </thead>\n",
       "  <tbody>\n",
       "    <tr>\n",
       "      <th>count</th>\n",
       "      <td>131023.000000</td>\n",
       "      <td>131023.000000</td>\n",
       "      <td>131023.000000</td>\n",
       "      <td>131023.000000</td>\n",
       "      <td>131023.000000</td>\n",
       "      <td>131023.000000</td>\n",
       "      <td>131023.000000</td>\n",
       "    </tr>\n",
       "    <tr>\n",
       "      <th>mean</th>\n",
       "      <td>11.084684</td>\n",
       "      <td>40.736949</td>\n",
       "      <td>422.711448</td>\n",
       "      <td>3.183272</td>\n",
       "      <td>18.851095</td>\n",
       "      <td>24.506470</td>\n",
       "      <td>13.587350</td>\n",
       "    </tr>\n",
       "    <tr>\n",
       "      <th>std</th>\n",
       "      <td>29.417130</td>\n",
       "      <td>99.727758</td>\n",
       "      <td>585.361716</td>\n",
       "      <td>10.527212</td>\n",
       "      <td>8.140747</td>\n",
       "      <td>8.394314</td>\n",
       "      <td>8.433917</td>\n",
       "    </tr>\n",
       "    <tr>\n",
       "      <th>min</th>\n",
       "      <td>-37.665500</td>\n",
       "      <td>-118.386600</td>\n",
       "      <td>1.400000</td>\n",
       "      <td>-13.262471</td>\n",
       "      <td>-26.100000</td>\n",
       "      <td>-23.200000</td>\n",
       "      <td>-31.000000</td>\n",
       "    </tr>\n",
       "    <tr>\n",
       "      <th>25%</th>\n",
       "      <td>-23.795100</td>\n",
       "      <td>-80.316940</td>\n",
       "      <td>15.400000</td>\n",
       "      <td>0.000000</td>\n",
       "      <td>14.200000</td>\n",
       "      <td>20.000000</td>\n",
       "      <td>8.681013</td>\n",
       "    </tr>\n",
       "    <tr>\n",
       "      <th>50%</th>\n",
       "      <td>25.788050</td>\n",
       "      <td>85.367000</td>\n",
       "      <td>65.000000</td>\n",
       "      <td>0.000000</td>\n",
       "      <td>19.392723</td>\n",
       "      <td>25.000000</td>\n",
       "      <td>13.960669</td>\n",
       "    </tr>\n",
       "    <tr>\n",
       "      <th>75%</th>\n",
       "      <td>33.938160</td>\n",
       "      <td>115.976400</td>\n",
       "      <td>1210.000000</td>\n",
       "      <td>3.264182</td>\n",
       "      <td>24.730851</td>\n",
       "      <td>30.500000</td>\n",
       "      <td>19.800000</td>\n",
       "    </tr>\n",
       "    <tr>\n",
       "      <th>max</th>\n",
       "      <td>41.960170</td>\n",
       "      <td>152.975300</td>\n",
       "      <td>1647.200000</td>\n",
       "      <td>461.000000</td>\n",
       "      <td>38.200000</td>\n",
       "      <td>50.874162</td>\n",
       "      <td>46.246578</td>\n",
       "    </tr>\n",
       "  </tbody>\n",
       "</table>\n",
       "</div>"
      ],
      "text/plain": [
       "            LATITUDE      LONGITUDE      ELEVATION           PRCP  \\\n",
       "count  131023.000000  131023.000000  131023.000000  131023.000000   \n",
       "mean       11.084684      40.736949     422.711448       3.183272   \n",
       "std        29.417130      99.727758     585.361716      10.527212   \n",
       "min       -37.665500    -118.386600       1.400000     -13.262471   \n",
       "25%       -23.795100     -80.316940      15.400000       0.000000   \n",
       "50%        25.788050      85.367000      65.000000       0.000000   \n",
       "75%        33.938160     115.976400    1210.000000       3.264182   \n",
       "max        41.960170     152.975300    1647.200000     461.000000   \n",
       "\n",
       "                TAVG           TMAX           TMIN  \n",
       "count  131023.000000  131023.000000  131023.000000  \n",
       "mean       18.851095      24.506470      13.587350  \n",
       "std         8.140747       8.394314       8.433917  \n",
       "min       -26.100000     -23.200000     -31.000000  \n",
       "25%        14.200000      20.000000       8.681013  \n",
       "50%        19.392723      25.000000      13.960669  \n",
       "75%        24.730851      30.500000      19.800000  \n",
       "max        38.200000      50.874162      46.246578  "
      ]
     },
     "execution_count": 12,
     "metadata": {},
     "output_type": "execute_result"
    }
   ],
   "source": [
    "weather.describe()"
   ]
  },
  {
   "cell_type": "code",
   "execution_count": 13,
   "metadata": {
    "colab": {
     "base_uri": "https://localhost:8080/"
    },
    "executionInfo": {
     "elapsed": 24,
     "status": "ok",
     "timestamp": 1721712596891,
     "user": {
      "displayName": "Shreyan Bhandari",
      "userId": "11628212399295485747"
     },
     "user_tz": -345
    },
    "id": "aix38tauQaz8",
    "outputId": "9fb988b9-073f-4a58-d1dc-4c4fbd0989a0"
   },
   "outputs": [
    {
     "name": "stdout",
     "output_type": "stream",
     "text": [
      "<class 'pandas.core.frame.DataFrame'>\n",
      "Index: 131023 entries, 0 to 21035\n",
      "Data columns (total 8 columns):\n",
      " #   Column     Non-Null Count   Dtype  \n",
      "---  ------     --------------   -----  \n",
      " 0   DATE       131023 non-null  object \n",
      " 1   LATITUDE   131023 non-null  float64\n",
      " 2   LONGITUDE  131023 non-null  float64\n",
      " 3   ELEVATION  131023 non-null  float64\n",
      " 4   PRCP       131023 non-null  float64\n",
      " 5   TAVG       131023 non-null  float64\n",
      " 6   TMAX       131023 non-null  float64\n",
      " 7   TMIN       131023 non-null  float64\n",
      "dtypes: float64(7), object(1)\n",
      "memory usage: 9.0+ MB\n"
     ]
    }
   ],
   "source": [
    "weather.info()"
   ]
  },
  {
   "cell_type": "code",
   "execution_count": 14,
   "metadata": {
    "colab": {
     "base_uri": "https://localhost:8080/",
     "height": 723
    },
    "executionInfo": {
     "elapsed": 2585,
     "status": "ok",
     "timestamp": 1721712599457,
     "user": {
      "displayName": "Shreyan Bhandari",
      "userId": "11628212399295485747"
     },
     "user_tz": -345
    },
    "id": "0K77MMEH_yKT",
    "outputId": "b9b44a46-1d6c-4bca-cbd3-fcaf323f9c35"
   },
   "outputs": [
    {
     "data": {
      "image/png": "[encoded data removed]",
      "text/plain": [
       "<Figure size 1200x1000 with 9 Axes>"
      ]
     },
     "metadata": {},
     "output_type": "display_data"
    }
   ],
   "source": [
    "# Histogram\n",
    "\n",
    "import matplotlib.pyplot as plt\n",
    "\n",
    "weather.hist(figsize=(12, 10))\n",
    "plt.show()\n"
   ]
  },
  {
   "cell_type": "code",
   "execution_count": 15,
   "metadata": {
    "id": "mjY2Gi0RGdsK"
   },
   "outputs": [],
   "source": [
    "weather = weather.drop(columns = 'DATE')\n",
    "weather = weather.drop(columns = 'ELEVATION')"
   ]
  },
  {
   "cell_type": "code",
   "execution_count": 16,
   "metadata": {
    "colab": {
     "base_uri": "https://localhost:8080/",
     "height": 503
    },
    "executionInfo": {
     "elapsed": 1278,
     "status": "ok",
     "timestamp": 1721712601260,
     "user": {
      "displayName": "Shreyan Bhandari",
      "userId": "11628212399295485747"
     },
     "user_tz": -345
    },
    "id": "2ktOEDkvMit6",
    "outputId": "c59c01a5-0c09-4b0a-f475-a4608138723a"
   },
   "outputs": [
    {
     "data": {
      "image/png": "[encoded data removed]",
      "text/plain": [
       "<Figure size 640x480 with 2 Axes>"
      ]
     },
     "metadata": {},
     "output_type": "display_data"
    }
   ],
   "source": [
    "# Correlation matrix\n",
    "import seaborn as sns\n",
    "\n",
    "corr = weather.corr()\n",
    "sns.heatmap(corr, annot=True, cmap='coolwarm')\n",
    "plt.show()"
   ]
  },
  {
   "cell_type": "code",
   "execution_count": 17,
   "metadata": {
    "colab": {
     "base_uri": "https://localhost:8080/",
     "height": 627
    },
    "executionInfo": {
     "elapsed": 1098,
     "status": "ok",
     "timestamp": 1721712602327,
     "user": {
      "displayName": "Shreyan Bhandari",
      "userId": "11628212399295485747"
     },
     "user_tz": -345
    },
    "id": "nLSIWs6XY8Ka",
    "outputId": "519e1550-49a7-46cc-9f6d-1cc00dd47879"
   },
   "outputs": [
    {
     "data": {
      "image/png": "[encoded data removed]",
      "text/plain": [
       "<Figure size 1200x800 with 1 Axes>"
      ]
     },
     "metadata": {},
     "output_type": "display_data"
    }
   ],
   "source": [
    "# Box Plot\n",
    "\n",
    "plt.figure(figsize=(12, 8))\n",
    "weather.drop(['LATITUDE', 'LONGITUDE'], axis=1).boxplot()\n",
    "plt.xticks(rotation=45)\n",
    "plt.show()"
   ]
  },
  {
   "cell_type": "code",
   "execution_count": 18,
   "metadata": {
    "colab": {
     "base_uri": "https://localhost:8080/",
     "height": 112
    },
    "executionInfo": {
     "elapsed": 30,
     "status": "ok",
     "timestamp": 1721712602328,
     "user": {
      "displayName": "Shreyan Bhandari",
      "userId": "11628212399295485747"
     },
     "user_tz": -345
    },
    "id": "q-R2AuncGtW_",
    "outputId": "c71ad6e5-81a3-4668-ef61-52c6e3ac884a"
   },
   "outputs": [
    {
     "data": {
      "text/html": [
       "<div>\n",
       "<style scoped>\n",
       "    .dataframe tbody tr th:only-of-type {\n",
       "        vertical-align: middle;\n",
       "    }\n",
       "\n",
       "    .dataframe tbody tr th {\n",
       "        vertical-align: top;\n",
       "    }\n",
       "\n",
       "    .dataframe thead th {\n",
       "        text-align: right;\n",
       "    }\n",
       "</style>\n",
       "<table border=\"1\" class=\"dataframe\">\n",
       "  <thead>\n",
       "    <tr style=\"text-align: right;\">\n",
       "      <th></th>\n",
       "      <th>LATITUDE</th>\n",
       "      <th>LONGITUDE</th>\n",
       "      <th>PRCP</th>\n",
       "      <th>TAVG</th>\n",
       "      <th>TMAX</th>\n",
       "      <th>TMIN</th>\n",
       "    </tr>\n",
       "  </thead>\n",
       "  <tbody>\n",
       "    <tr>\n",
       "      <th>0</th>\n",
       "      <td>27.7</td>\n",
       "      <td>85.367</td>\n",
       "      <td>0.322424</td>\n",
       "      <td>10.553310</td>\n",
       "      <td>17.3</td>\n",
       "      <td>3.8</td>\n",
       "    </tr>\n",
       "    <tr>\n",
       "      <th>1</th>\n",
       "      <td>27.7</td>\n",
       "      <td>85.367</td>\n",
       "      <td>1.599753</td>\n",
       "      <td>11.833307</td>\n",
       "      <td>17.8</td>\n",
       "      <td>6.1</td>\n",
       "    </tr>\n",
       "  </tbody>\n",
       "</table>\n",
       "</div>"
      ],
      "text/plain": [
       "   LATITUDE  LONGITUDE      PRCP       TAVG  TMAX  TMIN\n",
       "0      27.7     85.367  0.322424  10.553310  17.3   3.8\n",
       "1      27.7     85.367  1.599753  11.833307  17.8   6.1"
      ]
     },
     "execution_count": 18,
     "metadata": {},
     "output_type": "execute_result"
    }
   ],
   "source": [
    "weather.head(2)"
   ]
  },
  {
   "cell_type": "code",
   "execution_count": 19,
   "metadata": {
    "id": "CxdBuorGYcKi"
   },
   "outputs": [],
   "source": [
    "weather.to_csv('cleaned_weather_data.csv', index=False)"
   ]
  }
 ],
 "metadata": {
  "accelerator": "GPU",
  "colab": {
   "authorship_tag": "ABX9TyOtDUqo0i5KPY3QExj1KhI4",
   "gpuType": "T4",
   "provenance": [
    {
     "file_id": "1qRu7DFmtjckOMW4n8BJ9MXNPuBk19vjo",
     "timestamp": 1721711445973
    },
    {
     "file_id": "11R-avLVEsOsCvW13xURPtU6W2SOsyYFb",
     "timestamp": 1721619725980
    }
   ]
  },
  "kernelspec": {
   "display_name": "Python 3 (ipykernel)",
   "language": "python",
   "name": "python3"
  },
  "language_info": {
   "codemirror_mode": {
    "name": "ipython",
    "version": 3
   },
   "file_extension": ".py",
   "mimetype": "text/x-python",
   "name": "python",
   "nbconvert_exporter": "python",
   "pygments_lexer": "ipython3",
   "version": "3.11.7"
  }
 },
 "nbformat": 4,
 "nbformat_minor": 1
}
